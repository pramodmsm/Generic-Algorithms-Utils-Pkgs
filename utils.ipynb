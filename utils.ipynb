{
 "cells": [
  {
   "cell_type": "markdown",
   "metadata": {},
   "source": [
    "# Simple utilities in Python"
   ]
  },
  {
   "cell_type": "markdown",
   "id": "1fe9e1ec",
   "metadata": {},
   "source": [
    "### Argument parsing during CLI execution"
   ]
  },
  {
   "cell_type": "code",
   "execution_count": 30,
   "metadata": {},
   "outputs": [],
   "source": [
    "import numpy as np\n",
    "import dis\n",
    "import pipe\n",
    "import argparse\n",
    "import tap\n",
    "\n",
    "from pipe import where\n",
    "from pipe import select\n",
    "from pipe import chain\n",
    "from pipe import traverse\n",
    "from pipe import groupby\n"
   ]
  },
  {
   "cell_type": "code",
   "execution_count": null,
   "id": "e6c49993",
   "metadata": {},
   "outputs": [],
   "source": [
    "parser = argparse.ArgumentParser()\n",
    "parser.add_argument('-name',type=str,required=True,help='input a name')\n",
    "parser.add_argument('-age',type=int,required=True,help='input age')\n",
    "\n",
    "args=parser.parse_args()\n",
    "\n",
    "print(f'{args.name} age is {args.age}')\n"
   ]
  },
  {
   "cell_type": "markdown",
   "id": "52bf7ee6",
   "metadata": {},
   "source": [
    "## pipe library in python helps to simplify iterables on a list but does not affect the complexity"
   ]
  },
  {
   "cell_type": "code",
   "execution_count": 59,
   "id": "18ccc233",
   "metadata": {},
   "outputs": [
    {
     "name": "stdout",
     "output_type": "stream",
     "text": [
      "Using array2 :[1, 2, 3, 4, 5, 6, 7, 8, 9, 10]\n",
      "[False, True, False, True, False, True, False, True, False, True]\n",
      "[1, 3, 5, 7, 9]\n",
      "Using array3:[[1, 2, [3, 4]], 5, [6]]\n",
      "unfold iterables [1, 2, 3, 4, 5, 6]\n",
      "array before grouping : [1, 2, 3, 4, 5, 6, 7, 8, 9, 10]\n",
      "[{'even': [2, 4, 6, 8, 10]}, {'odd': [3, 5, 7, 9]}]\n"
     ]
    }
   ],
   "source": [
    "arr1 = list(np.random.randint(5,size =1000))\n",
    "arr2 = [1,2,3,4,5,6,7,8,9,10]\n",
    "arr3 = [[1,2,[3,4]],5,[6]]\n",
    "\n",
    "'''\n",
    "    select method-> used for applying a function over an iterable\n",
    "    where method -> used for filtering out elements based on a condition\n",
    "    traverse method -> used for unfolding a  \n",
    "    groupby method -> used for grouping elements in a list\n",
    "'''\n",
    "print(f'Using array2 :{arr2}')\n",
    "print(list(arr2 | select(lambda x : x%2==0)))\n",
    "print(list(arr2 | where(lambda x : x%2!=0)))\n",
    "print(f'Using array3:{arr3}')\n",
    "print('unfold iterables',list(arr3 | traverse))\n",
    "print(f'array before grouping : {arr2}')\n",
    "print(list(arr2 | groupby(lambda x : 'even' if x%2==0 else 'odd') | select(lambda x:{x[0] : list(x[1] | where(lambda x : x>1))})))\n"
   ]
  },
  {
   "cell_type": "markdown",
   "metadata": {},
   "source": [
    "## lambda function \n",
    "    lambda arguments : expression\n",
    "    For e.g. \n",
    "    '''python\n",
    "        lambda a,b,c :  a*b +c\n",
    "    ''' \n"
   ]
  },
  {
   "cell_type": "code",
   "execution_count": 31,
   "metadata": {},
   "outputs": [
    {
     "name": "stdout",
     "output_type": "stream",
     "text": [
      "  2           0 LOAD_FAST                0 (a)\n",
      "              2 LOAD_DEREF               0 (n)\n",
      "              4 BINARY_MULTIPLY\n",
      "              6 RETURN_VALUE\n"
     ]
    }
   ],
   "source": [
    "'''\n",
    "    lambda arguments : expression\n",
    "    For e.g. \n",
    "    '''python\n",
    "    lambda a,b,c :  a*b +c\n",
    "    ''' \n",
    "'''\n",
    "inter\n",
    "\n",
    "def some_func(n):\n",
    "    return lambda a : a*n\n",
    "\n",
    "double  = some_func(10)\n",
    "double(2)\n",
    "\n",
    "dis.dis(double)\n"
   ]
  },
  {
   "cell_type": "markdown",
   "metadata": {},
   "source": [
    "## generator function to generate any patterns\n",
    "- Helps in memory saving.\n",
    "- Avoids storing large sized lists if it can be generated"
   ]
  },
  {
   "cell_type": "code",
   "execution_count": 20,
   "metadata": {},
   "outputs": [
    {
     "name": "stdout",
     "output_type": "stream",
     "text": [
      "1\n",
      "2\n",
      "3\n",
      "4\n",
      "5\n",
      "6\n",
      "7\n",
      "8\n",
      "9\n",
      "10\n"
     ]
    }
   ],
   "source": [
    "class example(object):\n",
    "\n",
    "    def __init__(self,m=1,n=10):\n",
    "        self.m,self.n=m,n\n",
    "\n",
    "    def generator_func(self):\n",
    "        i=self.m\n",
    "        while i<=self.n:\n",
    "            yield i\n",
    "            i+=1\n",
    "\n",
    "sample_obj = example()\n",
    "for i in sample_obj.generator_func():\n",
    "    print(i)"
   ]
  }
 ],
 "metadata": {
  "interpreter": {
   "hash": "916dbcbb3f70747c44a77c7bcd40155683ae19c65e1c03b4aa3499c5328201f1"
  },
  "kernelspec": {
   "display_name": "Python 3.8.10 64-bit",
   "language": "python",
   "name": "python3"
  },
  "language_info": {
   "codemirror_mode": {
    "name": "ipython",
    "version": 3
   },
   "file_extension": ".py",
   "mimetype": "text/x-python",
   "name": "python",
   "nbconvert_exporter": "python",
   "pygments_lexer": "ipython3",
   "version": "3.8.10"
  },
  "orig_nbformat": 4
 },
 "nbformat": 4,
 "nbformat_minor": 2
}
